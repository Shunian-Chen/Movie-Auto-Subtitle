{
 "cells": [
  {
   "cell_type": "code",
   "execution_count": 1,
   "metadata": {},
   "outputs": [],
   "source": [
    "import os\n",
    "import pandas as pd\n",
    "from moviepy.editor import VideoFileClip, TextClip, CompositeVideoClip"
   ]
  },
  {
   "cell_type": "code",
   "execution_count": 2,
   "metadata": {},
   "outputs": [],
   "source": [
    "SRC_VIDEO = \"E:\\\\Graduate\\\\2021-2022 Term 2\\\\AIPI540\\\\Individual Project\\\\Data\\\\videos\\\\original\\\\Green_Book.mp4\"\n",
    "SRC_SCRIPT = \"E:\\\\Graduate\\\\2021-2022 Term 2\\\\AIPI540\\\\Individual Project\\\\Data\\\\Transciption\\\\Green_Book.csv\""
   ]
  },
  {
   "cell_type": "code",
   "execution_count": 3,
   "metadata": {},
   "outputs": [],
   "source": [
    "script = pd.read_csv(SRC_SCRIPT)\n",
    "video = VideoFileClip(SRC_VIDEO)\n",
    "w, h = video.w, video.h"
   ]
  },
  {
   "cell_type": "code",
   "execution_count": 4,
   "metadata": {},
   "outputs": [
    {
     "data": {
      "text/plain": [
       "23.976023976023978"
      ]
     },
     "execution_count": 4,
     "metadata": {},
     "output_type": "execute_result"
    }
   ],
   "source": [
    "video.fps"
   ]
  },
  {
   "cell_type": "code",
   "execution_count": 7,
   "metadata": {},
   "outputs": [],
   "source": [
    "txts = []\n",
    "FONT_SIZE = 40\n",
    "FONT = \"SimHei\"\n",
    "SIZE = (w - 20, 40)\n",
    "ALIGN = \"center\"\n",
    "COLOR = 'white'\n",
    "POSITION = (10, h - 150)\n",
    "for idx, row in script.iterrows():\n",
    "    sentence, start, span = row['Text'], row[\"Start\"]/1000, row[\"Span\"]/1000\n",
    "    # print(sentence, start, span)\n",
    "    # input()\n",
    "    txt = (TextClip(sentence, \n",
    "                    fontsize=FONT_SIZE, \n",
    "                    font = FONT, \n",
    "                    size=SIZE, \n",
    "                    align=ALIGN, \n",
    "                    color = COLOR)\n",
    "                    .set_position(POSITION)\n",
    "                    .set_duration(span)\n",
    "                    .set_start(start))\n",
    "    txts.append(txt)"
   ]
  },
  {
   "cell_type": "code",
   "execution_count": null,
   "metadata": {},
   "outputs": [],
   "source": [
    "# script = pd.read_csv(SRC_SCRIPT)\n",
    "# video = VideoFileClip(SRC_VIDEO)\n",
    "# w, h = video.w, video.h\n",
    "\n",
    "# txts = []\n",
    "# FONT_SIZE = 40\n",
    "# FONT = \"SimHei\"\n",
    "# SIZE = (w - 20, 40)\n",
    "# ALIGN = \"center\"\n",
    "# COLOR = 'white'\n",
    "# POSITION = (10, h - 150)\n",
    "# for _, row in script.iterrows():\n",
    "#     sentence, start, span = row['Text'], row[\"Start\"]/1000, row[\"Span\"]/1000\n",
    "#     txt = (TextClip(sentence, \n",
    "#                     fontsize=FONT_SIZE, \n",
    "#                     font = FONT, \n",
    "#                     size=SIZE, \n",
    "#                     align=ALIGN, \n",
    "#                     color = COLOR)\n",
    "#                     .set_position(POSITION)\n",
    "#                     .set_duration(span)\n",
    "#                     .set_start(start))\n",
    "#     txts.append(txt)\n",
    "\n",
    "#     video = CompositeVideoClip([video, *txts])\n",
    "\n",
    "# video.write_videofile(f\"{SAVE_FOLDER}_subtitled.mp4\", threads = 4, progress_bar = False)"
   ]
  },
  {
   "cell_type": "code",
   "execution_count": 8,
   "metadata": {},
   "outputs": [
    {
     "name": "stdout",
     "output_type": "stream",
     "text": [
      "Moviepy - Building video E:\\Graduate\\2021-2022 Term 2\\AIPI540\\Individual Project\\Data\\videos\\original\\Green_Book_subtitled.mp4.\n",
      "MoviePy - Writing audio in Green_Book_subtitledTEMP_MPY_wvf_snd.mp3\n"
     ]
    },
    {
     "name": "stderr",
     "output_type": "stream",
     "text": [
      "                                                                        \r"
     ]
    },
    {
     "name": "stdout",
     "output_type": "stream",
     "text": [
      "MoviePy - Done.\n",
      "Moviepy - Writing video E:\\Graduate\\2021-2022 Term 2\\AIPI540\\Individual Project\\Data\\videos\\original\\Green_Book_subtitled.mp4\n",
      "\n"
     ]
    },
    {
     "name": "stderr",
     "output_type": "stream",
     "text": [
      "                                                                   \r"
     ]
    },
    {
     "name": "stdout",
     "output_type": "stream",
     "text": [
      "Moviepy - Done !\n",
      "Moviepy - video ready E:\\Graduate\\2021-2022 Term 2\\AIPI540\\Individual Project\\Data\\videos\\original\\Green_Book_subtitled.mp4\n"
     ]
    }
   ],
   "source": [
    "video = CompositeVideoClip([video, *txts])\n",
    "fn, ext = os.path.splitext(SRC_VIDEO)\n",
    "video.write_videofile(f\"{fn}_subtitled{ext}\", fps = video.fps)"
   ]
  },
  {
   "cell_type": "code",
   "execution_count": 5,
   "metadata": {},
   "outputs": [
    {
     "data": {
      "text/plain": [
       "1280"
      ]
     },
     "execution_count": 5,
     "metadata": {},
     "output_type": "execute_result"
    }
   ],
   "source": [
    "w\n"
   ]
  },
  {
   "cell_type": "code",
   "execution_count": 6,
   "metadata": {},
   "outputs": [
    {
     "data": {
      "text/plain": [
       "638"
      ]
     },
     "execution_count": 6,
     "metadata": {},
     "output_type": "execute_result"
    }
   ],
   "source": [
    "h"
   ]
  },
  {
   "cell_type": "code",
   "execution_count": 9,
   "metadata": {},
   "outputs": [
    {
     "data": {
      "text/plain": [
       "1200.16"
      ]
     },
     "execution_count": 9,
     "metadata": {},
     "output_type": "execute_result"
    }
   ],
   "source": [
    "video.duration"
   ]
  },
  {
   "cell_type": "code",
   "execution_count": null,
   "metadata": {},
   "outputs": [],
   "source": []
  }
 ],
 "metadata": {
  "interpreter": {
   "hash": "e59ba9495cf5a0f7daa13e34e418c9fb6692db49850371a2f353821d5213ce6c"
  },
  "kernelspec": {
   "display_name": "Python 3.7.11 ('ind')",
   "language": "python",
   "name": "python3"
  },
  "language_info": {
   "codemirror_mode": {
    "name": "ipython",
    "version": 3
   },
   "file_extension": ".py",
   "mimetype": "text/x-python",
   "name": "python",
   "nbconvert_exporter": "python",
   "pygments_lexer": "ipython3",
   "version": "3.7.11"
  },
  "orig_nbformat": 4
 },
 "nbformat": 4,
 "nbformat_minor": 2
}
