{
 "cells": [
  {
   "cell_type": "code",
   "execution_count": 58,
   "metadata": {},
   "outputs": [],
   "source": [
    "import os\n",
    "import torch\n",
    "import pandas as pd\n",
    "import datetime\n",
    "import soundfile as sf\n",
    "from pydub import AudioSegment\n",
    "from transformers import Wav2Vec2ForCTC, Wav2Vec2Processor"
   ]
  },
  {
   "cell_type": "code",
   "execution_count": 112,
   "metadata": {},
   "outputs": [],
   "source": [
    "def parse_time(t):\n",
    "    # start_time, end_time = map(int, t.split(\"_\"))\n",
    "    # dur = end_time - start_time\n",
    "    # return start_time, dur\n",
    "    start_time, end_time = map(int, t.split(\"_\"))\n",
    "    start_time /= 1000\n",
    "    start_hour = start_time//3600%24\n",
    "    start_min = start_time//60%60\n",
    "    start_sec = start_time%60\n",
    "    start = \"%02d:%02d:%06.3f\"%(start_hour, start_min, start_sec)\n",
    "    \n",
    "    end_time /= 1000\n",
    "    end_hour = end_time//3600%24\n",
    "    end_min = end_time//60%60\n",
    "    end_sec = end_time%60\n",
    "    end = \"%02d:%02d:%06.3f\"%(end_hour, end_min, end_sec)\n",
    "\n",
    "    return f\"{start} --> {end}\".replace(\".\", \",\")\n",
    "\n",
    "    \n",
    "def trans2flac(audio_path, audio_name, output_path, format):\n",
    "    audio_type = audio_name.split(\".\")[-1][1:]\n",
    "    exp_file = audio_name.split(\".\")[0]\n",
    "    audio = AudioSegment.from_file(os.path.join(audio_path, audio_name), format=audio_type)\n",
    "    audio.export(f'{os.path.join(output_path, exp_file)}.{format}', format = str(format))\n",
    "    return f\"{exp_file}.{format}\"\n",
    "\n",
    "def speech2text(path):\n",
    "    # load audio\n",
    "    audio_input, sample_rate = sf.read(path)\n",
    "    # pad input values and return pt tensor\n",
    "    input_values = processor(audio_input, sampling_rate=sample_rate, return_tensors=\"pt\").input_values.to(DEVICE)\n",
    "    # retrieve logits & take argmax\n",
    "    pred = model(input_values)\n",
    "    logits = pred.logits\n",
    "    predicted_ids = torch.argmax(logits, dim=-1)[0]\n",
    "\n",
    "    # transcribe\n",
    "    transcription = processor.decode(predicted_ids)\n",
    "\n",
    "    return transcription"
   ]
  },
  {
   "cell_type": "code",
   "execution_count": 113,
   "metadata": {},
   "outputs": [
    {
     "name": "stdout",
     "output_type": "stream",
     "text": [
      "e:\\Graduate\\2021-2022 Term 2\\AIPI540\\Individual Project\\Data\\outputs\\Interstellar\\Preprocess\\Split\n"
     ]
    }
   ],
   "source": [
    "DEVICE = 'cuda' if torch.cuda.is_available() else 'cpu'\n",
    "audio_name = \"Interstellar\"\n",
    "base = os.path.abspath(os.path.join(os.path.abspath(\".\"), \"..\"))\n",
    "AUDIO_FOLDER = os.path.join(base, \"Data\", \"outputs\", audio_name, \"Preprocess\", \"Split\")\n",
    "CLEAN_SPEECH_PATH = os.path.join(base, \"Data\", \"Clean splits\", audio_name)\n",
    "TRANSCIPTION_PATH = os.path.join(base, \"Data\", \"Transciption\")\n",
    "print(AUDIO_FOLDER)\n",
    "if not os.path.exists(CLEAN_SPEECH_PATH):\n",
    "    os.mkdir(CLEAN_SPEECH_PATH)"
   ]
  },
  {
   "cell_type": "code",
   "execution_count": 114,
   "metadata": {},
   "outputs": [
    {
     "name": "stderr",
     "output_type": "stream",
     "text": [
      "Some weights of Wav2Vec2ForCTC were not initialized from the model checkpoint at facebook/wav2vec2-base-960h and are newly initialized: ['wav2vec2.masked_spec_embed']\n",
      "You should probably TRAIN this model on a down-stream task to be able to use it for predictions and inference.\n"
     ]
    }
   ],
   "source": [
    "# load pretrained model\n",
    "processor = Wav2Vec2Processor.from_pretrained(\"facebook/wav2vec2-base-960h\")\n",
    "model = Wav2Vec2ForCTC.from_pretrained(\"facebook/wav2vec2-base-960h\").to(DEVICE)"
   ]
  },
  {
   "cell_type": "code",
   "execution_count": 115,
   "metadata": {},
   "outputs": [],
   "source": [
    "AUDIO_NAMES = []\n",
    "for root, dir, files in os.walk(AUDIO_FOLDER):\n",
    "    AUDIO_NAMES += files\n",
    "AUDIO_TIME = list([parse_time(time.split(\".\")[0]) for time in AUDIO_NAMES])\n",
    "CLEAN_SPEECH = [trans2flac(AUDIO_FOLDER, audio_name, CLEAN_SPEECH_PATH, \"flac\") for audio_name in AUDIO_NAMES]\n",
    "AUDIO_PATH = [os.path.join(CLEAN_SPEECH_PATH, audio_name) for audio_name in CLEAN_SPEECH]"
   ]
  },
  {
   "cell_type": "code",
   "execution_count": 116,
   "metadata": {},
   "outputs": [],
   "source": [
    "subtitles = pd.DataFrame(columns=[\"Time\" , \"Path\", \"Text\"])\n",
    "subtitles[\"Time\"] = AUDIO_TIME\n",
    "subtitles[\"Path\"] = AUDIO_PATH\n",
    "subtitles[\"Text\"] = subtitles[\"Path\"].apply(lambda x: speech2text(x))"
   ]
  },
  {
   "cell_type": "code",
   "execution_count": 117,
   "metadata": {},
   "outputs": [
    {
     "data": {
      "text/html": [
       "<div>\n",
       "<style scoped>\n",
       "    .dataframe tbody tr th:only-of-type {\n",
       "        vertical-align: middle;\n",
       "    }\n",
       "\n",
       "    .dataframe tbody tr th {\n",
       "        vertical-align: top;\n",
       "    }\n",
       "\n",
       "    .dataframe thead th {\n",
       "        text-align: right;\n",
       "    }\n",
       "</style>\n",
       "<table border=\"1\" class=\"dataframe\">\n",
       "  <thead>\n",
       "    <tr style=\"text-align: right;\">\n",
       "      <th></th>\n",
       "      <th>Time</th>\n",
       "      <th>Path</th>\n",
       "      <th>Text</th>\n",
       "    </tr>\n",
       "  </thead>\n",
       "  <tbody>\n",
       "    <tr>\n",
       "      <th>0</th>\n",
       "      <td>00:00:00,000 --&gt; 00:00:04,040</td>\n",
       "      <td>e:\\Graduate\\2021-2022 Term 2\\AIPI540\\Individua...</td>\n",
       "      <td>DON'T YOU KNOW WHO WE ARE  NO PROFESSOR I DON</td>\n",
       "    </tr>\n",
       "    <tr>\n",
       "      <th>1</th>\n",
       "      <td>00:00:10,690 --&gt; 00:00:12,257</td>\n",
       "      <td>e:\\Graduate\\2021-2022 Term 2\\AIPI540\\Individua...</td>\n",
       "      <td>NATTER</td>\n",
       "    </tr>\n",
       "    <tr>\n",
       "      <th>2</th>\n",
       "      <td>00:00:12,257 --&gt; 00:00:14,534</td>\n",
       "      <td>e:\\Graduate\\2021-2022 Term 2\\AIPI540\\Individua...</td>\n",
       "      <td>SAME MATTER YOU FLEWFOR</td>\n",
       "    </tr>\n",
       "    <tr>\n",
       "      <th>3</th>\n",
       "      <td>00:00:14,534 --&gt; 00:00:18,853</td>\n",
       "      <td>e:\\Graduate\\2021-2022 Term 2\\AIPI540\\Individua...</td>\n",
       "      <td>RUUH</td>\n",
       "    </tr>\n",
       "    <tr>\n",
       "      <th>4</th>\n",
       "      <td>00:00:18,853 --&gt; 00:00:25,061</td>\n",
       "      <td>e:\\Graduate\\2021-2022 Term 2\\AIPI540\\Individua...</td>\n",
       "      <td>HE</td>\n",
       "    </tr>\n",
       "    <tr>\n",
       "      <th>5</th>\n",
       "      <td>00:00:25,061 --&gt; 00:00:31,116</td>\n",
       "      <td>e:\\Graduate\\2021-2022 Term 2\\AIPI540\\Individua...</td>\n",
       "      <td>I HEARD THEY SHUT YOU DOWN FER O REFUSING TO D...</td>\n",
       "    </tr>\n",
       "    <tr>\n",
       "      <th>6</th>\n",
       "      <td>00:00:31,116 --&gt; 00:00:37,647</td>\n",
       "      <td>e:\\Graduate\\2021-2022 Term 2\\AIPI540\\Individua...</td>\n",
       "      <td>FUR WHEN THEY REALIZED THAT KILLING OUT TOF PE...</td>\n",
       "    </tr>\n",
       "    <tr>\n",
       "      <th>7</th>\n",
       "      <td>00:00:37,647 --&gt; 00:00:42,729</td>\n",
       "      <td>e:\\Graduate\\2021-2022 Term 2\\AIPI540\\Individua...</td>\n",
       "      <td>WHI I BECAUSE PUBLIC OPINION WOULDN'T ALLOW SP...</td>\n",
       "    </tr>\n",
       "    <tr>\n",
       "      <th>8</th>\n",
       "      <td>00:00:04,040 --&gt; 00:00:06,557</td>\n",
       "      <td>e:\\Graduate\\2021-2022 Term 2\\AIPI540\\Individua...</td>\n",
       "      <td>AND OW MY FATHER FFOR MISTER GAN</td>\n",
       "    </tr>\n",
       "    <tr>\n",
       "      <th>9</th>\n",
       "      <td>00:00:42,729 --&gt; 00:00:48,183</td>\n",
       "      <td>e:\\Graduate\\2021-2022 Term 2\\AIPI540\\Individua...</td>\n",
       "      <td>NOT WHELE YOUR STRAGGLIN TOWOLT ON PA</td>\n",
       "    </tr>\n",
       "  </tbody>\n",
       "</table>\n",
       "</div>"
      ],
      "text/plain": [
       "                            Time  \\\n",
       "0  00:00:00,000 --> 00:00:04,040   \n",
       "1  00:00:10,690 --> 00:00:12,257   \n",
       "2  00:00:12,257 --> 00:00:14,534   \n",
       "3  00:00:14,534 --> 00:00:18,853   \n",
       "4  00:00:18,853 --> 00:00:25,061   \n",
       "5  00:00:25,061 --> 00:00:31,116   \n",
       "6  00:00:31,116 --> 00:00:37,647   \n",
       "7  00:00:37,647 --> 00:00:42,729   \n",
       "8  00:00:04,040 --> 00:00:06,557   \n",
       "9  00:00:42,729 --> 00:00:48,183   \n",
       "\n",
       "                                                Path  \\\n",
       "0  e:\\Graduate\\2021-2022 Term 2\\AIPI540\\Individua...   \n",
       "1  e:\\Graduate\\2021-2022 Term 2\\AIPI540\\Individua...   \n",
       "2  e:\\Graduate\\2021-2022 Term 2\\AIPI540\\Individua...   \n",
       "3  e:\\Graduate\\2021-2022 Term 2\\AIPI540\\Individua...   \n",
       "4  e:\\Graduate\\2021-2022 Term 2\\AIPI540\\Individua...   \n",
       "5  e:\\Graduate\\2021-2022 Term 2\\AIPI540\\Individua...   \n",
       "6  e:\\Graduate\\2021-2022 Term 2\\AIPI540\\Individua...   \n",
       "7  e:\\Graduate\\2021-2022 Term 2\\AIPI540\\Individua...   \n",
       "8  e:\\Graduate\\2021-2022 Term 2\\AIPI540\\Individua...   \n",
       "9  e:\\Graduate\\2021-2022 Term 2\\AIPI540\\Individua...   \n",
       "\n",
       "                                                Text  \n",
       "0      DON'T YOU KNOW WHO WE ARE  NO PROFESSOR I DON  \n",
       "1                                             NATTER  \n",
       "2                            SAME MATTER YOU FLEWFOR  \n",
       "3                                               RUUH  \n",
       "4                                                 HE  \n",
       "5  I HEARD THEY SHUT YOU DOWN FER O REFUSING TO D...  \n",
       "6  FUR WHEN THEY REALIZED THAT KILLING OUT TOF PE...  \n",
       "7  WHI I BECAUSE PUBLIC OPINION WOULDN'T ALLOW SP...  \n",
       "8                   AND OW MY FATHER FFOR MISTER GAN  \n",
       "9              NOT WHELE YOUR STRAGGLIN TOWOLT ON PA  "
      ]
     },
     "execution_count": 117,
     "metadata": {},
     "output_type": "execute_result"
    }
   ],
   "source": [
    "subtitles.head(10)"
   ]
  },
  {
   "cell_type": "code",
   "execution_count": 118,
   "metadata": {},
   "outputs": [],
   "source": [
    "filename = f\"{audio_name}.srt\"\n",
    "# save = subtitles.drop([\"Path\"], axis = 1)\n",
    "# save.loc[save[\"Text\"]==\"\", [\"Text\"]] = \" \"\n",
    "# save.to_csv(os.path.join(TRANSCIPTION_PATH, filename), index=False)\n",
    "f = open(os.path.join(TRANSCIPTION_PATH, filename), \"w\")\n",
    "for idx, row in subtitles.iterrows():\n",
    "    f.write(f'{idx+1}\\n{row[\"Time\"]}\\n{row[\"Text\"]}\\n\\n')\n",
    "f.close()"
   ]
  },
  {
   "cell_type": "code",
   "execution_count": null,
   "metadata": {},
   "outputs": [],
   "source": []
  }
 ],
 "metadata": {
  "interpreter": {
   "hash": "e59ba9495cf5a0f7daa13e34e418c9fb6692db49850371a2f353821d5213ce6c"
  },
  "kernelspec": {
   "display_name": "Python 3.7.11 ('ind')",
   "language": "python",
   "name": "python3"
  },
  "language_info": {
   "codemirror_mode": {
    "name": "ipython",
    "version": 3
   },
   "file_extension": ".py",
   "mimetype": "text/x-python",
   "name": "python",
   "nbconvert_exporter": "python",
   "pygments_lexer": "ipython3",
   "version": "3.7.11"
  },
  "orig_nbformat": 4
 },
 "nbformat": 4,
 "nbformat_minor": 2
}
